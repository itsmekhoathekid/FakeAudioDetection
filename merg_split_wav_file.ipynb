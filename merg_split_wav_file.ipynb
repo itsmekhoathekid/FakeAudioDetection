{
 "cells": [
  {
   "cell_type": "code",
   "execution_count": 1,
   "metadata": {},
   "outputs": [],
   "source": [
    "import scipy.io.wavfile as wav\n",
    "import wave\n",
    "import os\n",
    "import math\n",
    "from pydub import AudioSegment"
   ]
  },
  {
   "cell_type": "code",
   "execution_count": 2,
   "metadata": {},
   "outputs": [],
   "source": [
    "def convert_m4a_to_wav(m4a_file, wav_file):\n",
    "    try:\n",
    "        audio = AudioSegment.from_file(m4a_file, format='m4a')\n",
    "        audio.export(wav_file, format='wav')\n",
    "        print(f\"Converted {m4a_file} to {wav_file}\")\n",
    "    except FileNotFoundError:\n",
    "        print(\"FFmpeg executable not found. Please ensure FFmpeg is installed and accessible.\")\n",
    "    except Exception as e:\n",
    "        print(f\"An error occurred while converting {m4a_file} to WAV: {str(e)}\")\n",
    "\n",
    "def batch_convert_m4a_to_wav(directory):\n",
    "    for root, dirs, files in os.walk(directory):\n",
    "        for file in files:\n",
    "            if file.endswith('.m4a'):\n",
    "                m4a_file = os.path.join(root, file)\n",
    "                wav_file = os.path.splitext(m4a_file)[0] + '.wav'\n",
    "                print(m4a_file)\n",
    "                print(wav_file)\n",
    "                convert_m4a_to_wav(m4a_file, wav_file)\n",
    "                print(f\"Converted {m4a_file} to {wav_file}\")"
   ]
  },
  {
   "cell_type": "code",
   "execution_count": 3,
   "metadata": {},
   "outputs": [
    {
     "name": "stdout",
     "output_type": "stream",
     "text": [
      "C:\\Users\\VIET HOANG - VTS\\Desktop\\place to be split\\2 iu toooooo.m4a\n",
      "C:\\Users\\VIET HOANG - VTS\\Desktop\\place to be split\\2 iu toooooo.wav\n",
      "Converted C:\\Users\\VIET HOANG - VTS\\Desktop\\place to be split\\2 iu toooooo.m4a to C:\\Users\\VIET HOANG - VTS\\Desktop\\place to be split\\2 iu toooooo.wav\n",
      "Converted C:\\Users\\VIET HOANG - VTS\\Desktop\\place to be split\\2 iu toooooo.m4a to C:\\Users\\VIET HOANG - VTS\\Desktop\\place to be split\\2 iu toooooo.wav\n",
      "C:\\Users\\VIET HOANG - VTS\\Desktop\\place to be split\\3 iu to.m4a\n",
      "C:\\Users\\VIET HOANG - VTS\\Desktop\\place to be split\\3 iu to.wav\n",
      "Converted C:\\Users\\VIET HOANG - VTS\\Desktop\\place to be split\\3 iu to.m4a to C:\\Users\\VIET HOANG - VTS\\Desktop\\place to be split\\3 iu to.wav\n",
      "Converted C:\\Users\\VIET HOANG - VTS\\Desktop\\place to be split\\3 iu to.m4a to C:\\Users\\VIET HOANG - VTS\\Desktop\\place to be split\\3 iu to.wav\n",
      "C:\\Users\\VIET HOANG - VTS\\Desktop\\place to be split\\3 yeu to ban can biet khi gym.m4a\n",
      "C:\\Users\\VIET HOANG - VTS\\Desktop\\place to be split\\3 yeu to ban can biet khi gym.wav\n",
      "Converted C:\\Users\\VIET HOANG - VTS\\Desktop\\place to be split\\3 yeu to ban can biet khi gym.m4a to C:\\Users\\VIET HOANG - VTS\\Desktop\\place to be split\\3 yeu to ban can biet khi gym.wav\n",
      "Converted C:\\Users\\VIET HOANG - VTS\\Desktop\\place to be split\\3 yeu to ban can biet khi gym.m4a to C:\\Users\\VIET HOANG - VTS\\Desktop\\place to be split\\3 yeu to ban can biet khi gym.wav\n",
      "C:\\Users\\VIET HOANG - VTS\\Desktop\\place to be split\\Ban co can pt khi gym.m4a\n",
      "C:\\Users\\VIET HOANG - VTS\\Desktop\\place to be split\\Ban co can pt khi gym.wav\n",
      "Converted C:\\Users\\VIET HOANG - VTS\\Desktop\\place to be split\\Ban co can pt khi gym.m4a to C:\\Users\\VIET HOANG - VTS\\Desktop\\place to be split\\Ban co can pt khi gym.wav\n",
      "Converted C:\\Users\\VIET HOANG - VTS\\Desktop\\place to be split\\Ban co can pt khi gym.m4a to C:\\Users\\VIET HOANG - VTS\\Desktop\\place to be split\\Ban co can pt khi gym.wav\n",
      "C:\\Users\\VIET HOANG - VTS\\Desktop\\place to be split\\Ghi âm cuộc gọi Đĩnh_221225_150657.m4a\n",
      "C:\\Users\\VIET HOANG - VTS\\Desktop\\place to be split\\Ghi âm cuộc gọi Đĩnh_221225_150657.wav\n",
      "Converted C:\\Users\\VIET HOANG - VTS\\Desktop\\place to be split\\Ghi âm cuộc gọi Đĩnh_221225_150657.m4a to C:\\Users\\VIET HOANG - VTS\\Desktop\\place to be split\\Ghi âm cuộc gọi Đĩnh_221225_150657.wav\n",
      "Converted C:\\Users\\VIET HOANG - VTS\\Desktop\\place to be split\\Ghi âm cuộc gọi Đĩnh_221225_150657.m4a to C:\\Users\\VIET HOANG - VTS\\Desktop\\place to be split\\Ghi âm cuộc gọi Đĩnh_221225_150657.wav\n",
      "C:\\Users\\VIET HOANG - VTS\\Desktop\\place to be split\\Thoại 001.m4a\n",
      "C:\\Users\\VIET HOANG - VTS\\Desktop\\place to be split\\Thoại 001.wav\n",
      "Converted C:\\Users\\VIET HOANG - VTS\\Desktop\\place to be split\\Thoại 001.m4a to C:\\Users\\VIET HOANG - VTS\\Desktop\\place to be split\\Thoại 001.wav\n",
      "Converted C:\\Users\\VIET HOANG - VTS\\Desktop\\place to be split\\Thoại 001.m4a to C:\\Users\\VIET HOANG - VTS\\Desktop\\place to be split\\Thoại 001.wav\n",
      "C:\\Users\\VIET HOANG - VTS\\Desktop\\place to be split\\Thoại 002.m4a\n",
      "C:\\Users\\VIET HOANG - VTS\\Desktop\\place to be split\\Thoại 002.wav\n",
      "Converted C:\\Users\\VIET HOANG - VTS\\Desktop\\place to be split\\Thoại 002.m4a to C:\\Users\\VIET HOANG - VTS\\Desktop\\place to be split\\Thoại 002.wav\n",
      "Converted C:\\Users\\VIET HOANG - VTS\\Desktop\\place to be split\\Thoại 002.m4a to C:\\Users\\VIET HOANG - VTS\\Desktop\\place to be split\\Thoại 002.wav\n",
      "C:\\Users\\VIET HOANG - VTS\\Desktop\\place to be split\\Thoại 003.m4a\n",
      "C:\\Users\\VIET HOANG - VTS\\Desktop\\place to be split\\Thoại 003.wav\n",
      "Converted C:\\Users\\VIET HOANG - VTS\\Desktop\\place to be split\\Thoại 003.m4a to C:\\Users\\VIET HOANG - VTS\\Desktop\\place to be split\\Thoại 003.wav\n",
      "Converted C:\\Users\\VIET HOANG - VTS\\Desktop\\place to be split\\Thoại 003.m4a to C:\\Users\\VIET HOANG - VTS\\Desktop\\place to be split\\Thoại 003.wav\n",
      "C:\\Users\\VIET HOANG - VTS\\Desktop\\place to be split\\Voice 002.m4a\n",
      "C:\\Users\\VIET HOANG - VTS\\Desktop\\place to be split\\Voice 002.wav\n",
      "Converted C:\\Users\\VIET HOANG - VTS\\Desktop\\place to be split\\Voice 002.m4a to C:\\Users\\VIET HOANG - VTS\\Desktop\\place to be split\\Voice 002.wav\n",
      "Converted C:\\Users\\VIET HOANG - VTS\\Desktop\\place to be split\\Voice 002.m4a to C:\\Users\\VIET HOANG - VTS\\Desktop\\place to be split\\Voice 002.wav\n",
      "C:\\Users\\VIET HOANG - VTS\\Desktop\\place to be split\\Voice 003.m4a\n",
      "C:\\Users\\VIET HOANG - VTS\\Desktop\\place to be split\\Voice 003.wav\n",
      "Converted C:\\Users\\VIET HOANG - VTS\\Desktop\\place to be split\\Voice 003.m4a to C:\\Users\\VIET HOANG - VTS\\Desktop\\place to be split\\Voice 003.wav\n",
      "Converted C:\\Users\\VIET HOANG - VTS\\Desktop\\place to be split\\Voice 003.m4a to C:\\Users\\VIET HOANG - VTS\\Desktop\\place to be split\\Voice 003.wav\n",
      "C:\\Users\\VIET HOANG - VTS\\Desktop\\place to be split\\Voice 004.m4a\n",
      "C:\\Users\\VIET HOANG - VTS\\Desktop\\place to be split\\Voice 004.wav\n",
      "Converted C:\\Users\\VIET HOANG - VTS\\Desktop\\place to be split\\Voice 004.m4a to C:\\Users\\VIET HOANG - VTS\\Desktop\\place to be split\\Voice 004.wav\n",
      "Converted C:\\Users\\VIET HOANG - VTS\\Desktop\\place to be split\\Voice 004.m4a to C:\\Users\\VIET HOANG - VTS\\Desktop\\place to be split\\Voice 004.wav\n",
      "C:\\Users\\VIET HOANG - VTS\\Desktop\\place to be split\\Voice 005.m4a\n",
      "C:\\Users\\VIET HOANG - VTS\\Desktop\\place to be split\\Voice 005.wav\n",
      "Converted C:\\Users\\VIET HOANG - VTS\\Desktop\\place to be split\\Voice 005.m4a to C:\\Users\\VIET HOANG - VTS\\Desktop\\place to be split\\Voice 005.wav\n",
      "Converted C:\\Users\\VIET HOANG - VTS\\Desktop\\place to be split\\Voice 005.m4a to C:\\Users\\VIET HOANG - VTS\\Desktop\\place to be split\\Voice 005.wav\n",
      "C:\\Users\\VIET HOANG - VTS\\Desktop\\place to be split\\Voice 006.m4a\n",
      "C:\\Users\\VIET HOANG - VTS\\Desktop\\place to be split\\Voice 006.wav\n",
      "Converted C:\\Users\\VIET HOANG - VTS\\Desktop\\place to be split\\Voice 006.m4a to C:\\Users\\VIET HOANG - VTS\\Desktop\\place to be split\\Voice 006.wav\n",
      "Converted C:\\Users\\VIET HOANG - VTS\\Desktop\\place to be split\\Voice 006.m4a to C:\\Users\\VIET HOANG - VTS\\Desktop\\place to be split\\Voice 006.wav\n"
     ]
    }
   ],
   "source": [
    "batch_convert_m4a_to_wav(r\"C:\\Users\\VIET HOANG - VTS\\Desktop\\place to be split\")"
   ]
  },
  {
   "cell_type": "code",
   "execution_count": 4,
   "metadata": {},
   "outputs": [],
   "source": [
    "def merge_wav_files(input_dir, output_file):\n",
    "    # Lấy danh sách tất cả các tệp WAV trong thư mục đầu vào\n",
    "    wav_files = [file for file in os.listdir(input_dir) if file.endswith(\".wav\")]\n",
    "\n",
    "    # Kiểm tra xem có ít nhất 2 tệp WAV để ghép nối\n",
    "    if len(wav_files) < 2:\n",
    "        print(\"Cần ít nhất 2 tệp WAV để ghép nối.\")\n",
    "        return\n",
    "\n",
    "    # Mở tệp đầu tiên để lấy thông tin âm thanh\n",
    "    with wave.open(os.path.join(input_dir, wav_files[0]), \"rb\") as first_wav:\n",
    "        params = first_wav.getparams()\n",
    "\n",
    "        # Tạo file WAV output để ghi dữ liệu ghép nối\n",
    "        with wave.open(output_file, \"wb\") as output_wav:\n",
    "            output_wav.setparams(params)\n",
    "\n",
    "            # Ghi nội dung từ tất cả các tệp WAV vào tệp output\n",
    "            for wav_file in wav_files:\n",
    "                with wave.open(os.path.join(input_dir, wav_file), \"rb\") as wav:\n",
    "                    output_wav.writeframes(wav.readframes(wav.getnframes()))\n",
    "\n",
    "    print(\"Đã ghép nối các tệp WAV thành công.\")"
   ]
  },
  {
   "cell_type": "code",
   "execution_count": 5,
   "metadata": {},
   "outputs": [
    {
     "name": "stdout",
     "output_type": "stream",
     "text": [
      "Đã ghép nối các tệp WAV thành công.\n"
     ]
    }
   ],
   "source": [
    "input_path = r\"C:\\Users\\VIET HOANG - VTS\\Desktop\\place to be split\"\n",
    "output_path = r\"C:\\Users\\VIET HOANG - VTS\\Desktop\\place to be split\\merged.wav\"\n",
    "merge_wav_files(input_path,output_path)"
   ]
  },
  {
   "cell_type": "code",
   "execution_count": 6,
   "metadata": {},
   "outputs": [],
   "source": [
    "def split_wav(input_file, segment_duration, output_path):\n",
    "    # Open the input WAV file\n",
    "    with wave.open(input_file, 'rb') as wav_file:\n",
    "        # Get the parameters of the input WAV file\n",
    "        num_channels = wav_file.getnchannels()\n",
    "        sample_width = wav_file.getsampwidth()\n",
    "        frame_rate = wav_file.getframerate()\n",
    "        num_frames = wav_file.getnframes()\n",
    "        file_name = os.path.basename(input_file)\n",
    "        # Calculate the number of frames per segment based on the provided duration\n",
    "        segment_frames = int(segment_duration * frame_rate)\n",
    "\n",
    "        # Calculate the total number of segments needed\n",
    "        total_segments = math.ceil(num_frames / segment_frames)\n",
    "\n",
    "        # Iterate over the segments and write each one to a separate WAV file\n",
    "        for segment in range(total_segments):\n",
    "            # Calculate the start and end frames for the current segment\n",
    "            start_frame = segment * segment_frames\n",
    "            end_frame = min(start_frame + segment_frames, num_frames)\n",
    "\n",
    "            # Set the output filename for the current segment\n",
    "            output_file = f\"{output_path}\\\\{file_name}_{segment + 1}.wav\"\n",
    "\n",
    "            # Open the output WAV file\n",
    "            with wave.open(output_file, 'wb') as output_wav:\n",
    "                # Set the output file parameters\n",
    "                output_wav.setnchannels(num_channels)\n",
    "                output_wav.setsampwidth(sample_width)\n",
    "                output_wav.setframerate(frame_rate)\n",
    "\n",
    "                # Set the position in the input WAV file to the start frame of the current segment\n",
    "                wav_file.setpos(start_frame)\n",
    "\n",
    "                # Read the frames for the current segment from the input WAV file\n",
    "                frames = wav_file.readframes(end_frame - start_frame)\n",
    "\n",
    "                # Write the frames to the output WAV file\n",
    "                output_wav.writeframes(frames)\n",
    "\n",
    "            print(f\"Segment {segment + 1}/{total_segments} saved in {output_file}\")"
   ]
  },
  {
   "cell_type": "code",
   "execution_count": 7,
   "metadata": {},
   "outputs": [
    {
     "name": "stdout",
     "output_type": "stream",
     "text": [
      "Segment 1/16 saved in C:\\Users\\VIET HOANG - VTS\\Desktop\\place to be merg\\merged.wav_1.wav\n",
      "Segment 2/16 saved in C:\\Users\\VIET HOANG - VTS\\Desktop\\place to be merg\\merged.wav_2.wav\n",
      "Segment 3/16 saved in C:\\Users\\VIET HOANG - VTS\\Desktop\\place to be merg\\merged.wav_3.wav\n",
      "Segment 4/16 saved in C:\\Users\\VIET HOANG - VTS\\Desktop\\place to be merg\\merged.wav_4.wav\n",
      "Segment 5/16 saved in C:\\Users\\VIET HOANG - VTS\\Desktop\\place to be merg\\merged.wav_5.wav\n",
      "Segment 6/16 saved in C:\\Users\\VIET HOANG - VTS\\Desktop\\place to be merg\\merged.wav_6.wav\n",
      "Segment 7/16 saved in C:\\Users\\VIET HOANG - VTS\\Desktop\\place to be merg\\merged.wav_7.wav\n",
      "Segment 8/16 saved in C:\\Users\\VIET HOANG - VTS\\Desktop\\place to be merg\\merged.wav_8.wav\n",
      "Segment 9/16 saved in C:\\Users\\VIET HOANG - VTS\\Desktop\\place to be merg\\merged.wav_9.wav\n",
      "Segment 10/16 saved in C:\\Users\\VIET HOANG - VTS\\Desktop\\place to be merg\\merged.wav_10.wav\n",
      "Segment 11/16 saved in C:\\Users\\VIET HOANG - VTS\\Desktop\\place to be merg\\merged.wav_11.wav\n",
      "Segment 12/16 saved in C:\\Users\\VIET HOANG - VTS\\Desktop\\place to be merg\\merged.wav_12.wav\n",
      "Segment 13/16 saved in C:\\Users\\VIET HOANG - VTS\\Desktop\\place to be merg\\merged.wav_13.wav\n",
      "Segment 14/16 saved in C:\\Users\\VIET HOANG - VTS\\Desktop\\place to be merg\\merged.wav_14.wav\n",
      "Segment 15/16 saved in C:\\Users\\VIET HOANG - VTS\\Desktop\\place to be merg\\merged.wav_15.wav\n",
      "Segment 16/16 saved in C:\\Users\\VIET HOANG - VTS\\Desktop\\place to be merg\\merged.wav_16.wav\n"
     ]
    }
   ],
   "source": [
    "split_wav(r\"C:\\Users\\VIET HOANG - VTS\\Desktop\\place to be split\\merged.wav\",300,r\"C:\\Users\\VIET HOANG - VTS\\Desktop\\place to be merg\")\n"
   ]
  }
 ],
 "metadata": {
  "kernelspec": {
   "display_name": "Python 3",
   "language": "python",
   "name": "python3"
  },
  "language_info": {
   "codemirror_mode": {
    "name": "ipython",
    "version": 3
   },
   "file_extension": ".py",
   "mimetype": "text/x-python",
   "name": "python",
   "nbconvert_exporter": "python",
   "pygments_lexer": "ipython3",
   "version": "3.12.0"
  }
 },
 "nbformat": 4,
 "nbformat_minor": 2
}
