{
 "cells": [
  {
   "cell_type": "code",
   "execution_count": 1,
   "metadata": {},
   "outputs": [],
   "source": [
    "import wave\n",
    "import os"
   ]
  },
  {
   "cell_type": "code",
   "execution_count": 2,
   "metadata": {},
   "outputs": [],
   "source": [
    "def merge_wav_files(input_dir, output_file):\n",
    "    # Lấy danh sách tất cả các tệp WAV trong thư mục đầu vào\n",
    "    wav_files = [file for file in os.listdir(input_dir) if file.endswith(\".wav\")]\n",
    "\n",
    "    # Kiểm tra xem có ít nhất 2 tệp WAV để ghép nối\n",
    "    if len(wav_files) < 2:\n",
    "        print(\"Cần ít nhất 2 tệp WAV để ghép nối.\")\n",
    "        return\n",
    "\n",
    "    # Mở tệp đầu tiên để lấy thông tin âm thanh\n",
    "    with wave.open(os.path.join(input_dir, wav_files[0]), \"rb\") as first_wav:\n",
    "        params = first_wav.getparams()\n",
    "\n",
    "        # Tạo file WAV output để ghi dữ liệu ghép nối\n",
    "        with wave.open(output_file, \"wb\") as output_wav:\n",
    "            output_wav.setparams(params)\n",
    "\n",
    "            # Ghi nội dung từ tất cả các tệp WAV vào tệp output\n",
    "            for wav_file in wav_files:\n",
    "                with wave.open(os.path.join(input_dir, wav_file), \"rb\") as wav:\n",
    "                    output_wav.writeframes(wav.readframes(wav.getnframes()))\n",
    "\n",
    "    print(\"Đã ghép nối các tệp WAV thành công.\")"
   ]
  },
  {
   "cell_type": "code",
   "execution_count": 4,
   "metadata": {},
   "outputs": [
    {
     "name": "stdout",
     "output_type": "stream",
     "text": [
      "Đã ghép nối các tệp WAV thành công.\n"
     ]
    }
   ],
   "source": [
    "input_path = r\"C:\\Users\\VIET HOANG - VTS\\Desktop\\place to be split\"\n",
    "output_path = r\"C:\\Users\\VIET HOANG - VTS\\Desktop\\place to be merg\\merged.wav\"\n",
    "merge_wav_files(input_path,output_path)"
   ]
  }
 ],
 "metadata": {
  "kernelspec": {
   "display_name": "Python 3",
   "language": "python",
   "name": "python3"
  },
  "language_info": {
   "codemirror_mode": {
    "name": "ipython",
    "version": 3
   },
   "file_extension": ".py",
   "mimetype": "text/x-python",
   "name": "python",
   "nbconvert_exporter": "python",
   "pygments_lexer": "ipython3",
   "version": "3.12.0"
  }
 },
 "nbformat": 4,
 "nbformat_minor": 2
}
