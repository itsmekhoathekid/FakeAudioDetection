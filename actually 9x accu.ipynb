{
 "cells": [
  {
   "cell_type": "code",
   "execution_count": 1,
   "metadata": {},
   "outputs": [],
   "source": [
    "import librosa\n",
    "import numpy as np\n",
    "from scipy.fftpack import dct\n",
    "import os \n",
    "from sklearn.model_selection import train_test_split\n",
    "from sklearn.ensemble import RandomForestClassifier\n",
    "from sklearn.metrics import accuracy_score\n",
    "import wave\n",
    "import math\n",
    "import scipy.io.wavfile as wav\n",
    "from sklearn.model_selection import GridSearchCV, train_test_split\n",
    "from sklearn.neighbors import KNeighborsClassifier\n",
    "from sklearn.ensemble import VotingClassifier\n",
    "from sklearn import svm\n",
    "from sklearn.ensemble import AdaBoostClassifier\n",
    "from sklearn.decomposition import LatentDirichletAllocation\n",
    "from sklearn.model_selection import GridSearchCV\n",
    "from sklearn.pipeline import Pipeline\n",
    "from sklearn.ensemble import GradientBoostingClassifier\n",
    "from sklearn.preprocessing import StandardScaler\n",
    "import pandas as pd\n",
    "from sklearn.linear_model import LogisticRegression\n",
    "import matplotlib.pyplot as plt\n",
    "import json"
   ]
  },
  {
   "cell_type": "code",
   "execution_count": 2,
   "metadata": {},
   "outputs": [],
   "source": [
    "def load_data(data_dir):\n",
    "    real_files = [os.path.join(data_dir, \"real\", f) for f in os.listdir(os.path.join(data_dir, \"real\")) if f.endswith(\".wav\")]\n",
    "    fake_files = [os.path.join(data_dir, \"fake\", f) for f in os.listdir(os.path.join(data_dir, \"fake\")) if f.endswith(\".wav\")]\n",
    "    fake_labels = [0] * len(fake_files)\n",
    "    real_labels = [1] * len(real_files)\n",
    "\n",
    "    files = fake_files + real_files\n",
    "    labels = fake_labels + real_labels\n",
    "\n",
    "    return files, labels"
   ]
  },
  {
   "cell_type": "code",
   "execution_count": 12,
   "metadata": {},
   "outputs": [],
   "source": [
    "\n",
    "def preprocessing(audio_file, n_features):\n",
    "    # Load the audio signal\n",
    "    y, sr = librosa.load(audio_file, sr=None)\n",
    "\n",
    "    # Step 1: Pre-emphasis\n",
    "    pre_emphasis_coeff = 0.97\n",
    "    y_filt = librosa.effects.preemphasis(y, coef=pre_emphasis_coeff)\n",
    "\n",
    "    # Step 2: Frame blocking\n",
    "    frame_length = 0.025  # 25 ms\n",
    "    hop_length = 0.01  # 10 ms\n",
    "    frame_length_samples = int(frame_length * sr)\n",
    "    hop_length_samples = int(hop_length * sr)\n",
    "    frames = librosa.util.frame(y_filt, frame_length=frame_length_samples, hop_length=hop_length_samples)\n",
    "\n",
    "    # Step 3: Windowing\n",
    "    window = np.hamming(len(frames))\n",
    "    windowed_frames = frames * window[:, np.newaxis]\n",
    "    \n",
    "    # Step 4: Fast Fourier Transform (FFT)\n",
    "    fft_size = 2048\n",
    "    spectrogram = np.abs(np.fft.rfft(windowed_frames, n=fft_size, axis=0))\n",
    "\n",
    "    # Step 5: Mel frequency wrapping\n",
    "    n_mels = 40  # Adjusted number of Mel bands\n",
    "    mel_spec = librosa.feature.melspectrogram(S=spectrogram, sr=sr, n_mels=n_mels)\n",
    "    \n",
    "    # Step 6: Discrete Cosine Transform (DCT) to get MFCC\n",
    "    n_mfcc = n_features  # Use the desired number of MFCC features\n",
    "    mfcc = librosa.feature.mfcc(S=librosa.power_to_db(mel_spec), sr=sr, n_mfcc=n_mfcc)\n",
    "\n",
    "    mean_mfcc = np.max(mfcc, axis=1)\n",
    "\n",
    "    # Initialize the StandardScaler\n",
    "    scaler = StandardScaler()\n",
    "\n",
    "    # Reshape the aggregated MFCCs to 2D (needed for fitting the scaler)\n",
    "    mean_mfcc_reshaped = mean_mfcc.reshape(-1, 1)\n",
    "\n",
    "    # Fit and transform the data\n",
    "    mean_mfcc_scaled = scaler.fit_transform(mean_mfcc_reshaped)\n",
    "\n",
    "    # Flatten the scaled data back to 1D\n",
    "    mean_mfcc_scaled_flat = mean_mfcc_scaled.flatten()\n",
    "\n",
    "    return mean_mfcc_scaled_flat\n",
    "#code 9x accu\n"
   ]
  },
  {
   "cell_type": "code",
   "execution_count": 15,
   "metadata": {},
   "outputs": [],
   "source": [
    "def load_data(data_dir):\n",
    "    real_files = [os.path.join(data_dir, \"real_an\", f) for f in os.listdir(os.path.join(data_dir, \"real_an\")) if f.endswith(\".wav\")]\n",
    "    fake_files = [os.path.join(data_dir, \"fake_an\", f) for f in os.listdir(os.path.join(data_dir, \"fake_an\")) if f.endswith(\".wav\")]\n",
    "    fake_labels = [0] * len(fake_files)\n",
    "    real_labels = [1] * len(real_files)\n",
    "\n",
    "    files = fake_files + real_files\n",
    "    labels = fake_labels + real_labels\n",
    "    print(len(fake_files))\n",
    "    print(len(real_files))\n",
    "    return files, labels"
   ]
  },
  {
   "cell_type": "code",
   "execution_count": 16,
   "metadata": {},
   "outputs": [
    {
     "name": "stdout",
     "output_type": "stream",
     "text": [
      "539\n",
      "1459\n",
      "LogisticRegression: Accuracy = 0.9875\n",
      "DecisionTreeClassifier: Accuracy = 0.9925\n",
      "SVC: Accuracy = 0.98\n",
      "RandomForestClassifier: Accuracy = 1.0\n"
     ]
    },
    {
     "name": "stderr",
     "output_type": "stream",
     "text": [
      "c:\\Users\\VIET HOANG - VTS\\AppData\\Local\\Programs\\Python\\Python312\\Lib\\site-packages\\sklearn\\ensemble\\_weight_boosting.py:519: FutureWarning: The SAMME.R algorithm (the default) is deprecated and will be removed in 1.6. Use the SAMME algorithm to circumvent this warning.\n",
      "  warnings.warn(\n"
     ]
    },
    {
     "name": "stdout",
     "output_type": "stream",
     "text": [
      "AdaBoostClassifier: Accuracy = 0.995\n",
      "KNeighborsClassifier: Accuracy = 1.0\n",
      "GaussianNB: Accuracy = 0.9575\n"
     ]
    }
   ],
   "source": [
    "url = r\"C:\\Users\\VIET HOANG - VTS\\Desktop\\tien xu ly\"\n",
    "files, labels = load_data(url)\n",
    "\n",
    "X_train, X_test, y_train, y_test = train_test_split(files, labels, test_size=0.2, random_state=42)\n",
    "\n",
    "X_train = [preprocessing(file,68) for file in X_train]\n",
    "X_test = [preprocessing(file,68) for file in X_test]\n",
    "\n",
    "from sklearn.datasets import make_classification\n",
    "from sklearn.model_selection import train_test_split\n",
    "from sklearn.metrics import accuracy_score\n",
    "from sklearn.linear_model import LogisticRegression\n",
    "from sklearn.tree import DecisionTreeClassifier\n",
    "from sklearn.svm import SVC\n",
    "\n",
    "from sklearn.ensemble import RandomForestClassifier, AdaBoostClassifier\n",
    "from sklearn.neighbors import KNeighborsClassifier\n",
    "from sklearn.naive_bayes import GaussianNB\n",
    "# Create a list of classifiers\n",
    "classifiers = [\n",
    "    LogisticRegression(),\n",
    "    DecisionTreeClassifier(),\n",
    "    SVC(),\n",
    "    RandomForestClassifier(),\n",
    "    AdaBoostClassifier(),\n",
    "    KNeighborsClassifier(),\n",
    "    GaussianNB()\n",
    "]\n",
    "\n",
    "# Train and evaluate each classifier\n",
    "for classifier in classifiers:\n",
    "    classifier.fit(X_train, y_train)\n",
    "    y_pred = classifier.predict(X_test)\n",
    "    accuracy = accuracy_score(y_test, y_pred)\n",
    "    print(f\"{classifier.__class__.__name__}: Accuracy = {accuracy}\")"
   ]
  },
  {
   "cell_type": "code",
   "execution_count": 17,
   "metadata": {},
   "outputs": [
    {
     "name": "stdout",
     "output_type": "stream",
     "text": [
      "400\n"
     ]
    }
   ],
   "source": [
    "print(len(X_test))"
   ]
  },
  {
   "cell_type": "code",
   "execution_count": 18,
   "metadata": {},
   "outputs": [
    {
     "data": {
      "text/plain": [
       "1.0"
      ]
     },
     "execution_count": 18,
     "metadata": {},
     "output_type": "execute_result"
    }
   ],
   "source": [
    "rf = RandomForestClassifier()\n",
    "rf.fit(X_train,y_train)\n",
    "rf.score(X_test,y_test)"
   ]
  },
  {
   "cell_type": "code",
   "execution_count": 19,
   "metadata": {},
   "outputs": [
    {
     "data": {
      "image/png": "[encoded data removed]",
      "text/plain": [
       "<Figure size 640x480 with 1 Axes>"
      ]
     },
     "metadata": {},
     "output_type": "display_data"
    }
   ],
   "source": [
    "file_r = r\"c:\\Users\\VIET HOANG - VTS\\Desktop\\tien xu ly\\real\\r_5.wav\"\n",
    "file_f = r\"c:\\Users\\VIET HOANG - VTS\\Desktop\\tien xu ly\\fake\\f_5.wav\"\n",
    "plt.plot([i for i in range(40)],preprocessing(file_f,68),color = 'r')\n",
    "plt.plot([i for i in range(40)],preprocessing(file_r,68),color = 'blue')\n",
    "plt.show()"
   ]
  }
 ],
 "metadata": {
  "kernelspec": {
   "display_name": "Python 3",
   "language": "python",
   "name": "python3"
  },
  "language_info": {
   "codemirror_mode": {
    "name": "ipython",
    "version": 3
   },
   "file_extension": ".py",
   "mimetype": "text/x-python",
   "name": "python",
   "nbconvert_exporter": "python",
   "pygments_lexer": "ipython3",
   "version": "3.12.0"
  }
 },
 "nbformat": 4,
 "nbformat_minor": 2
}
