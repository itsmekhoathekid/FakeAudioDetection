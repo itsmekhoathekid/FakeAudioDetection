{
 "cells": [
  {
   "cell_type": "code",
   "execution_count": 8,
   "metadata": {},
   "outputs": [],
   "source": [
    "import scipy.io.wavfile as wav\n",
    "import wave\n",
    "import os\n",
    "import math"
   ]
  },
  {
   "cell_type": "code",
   "execution_count": 11,
   "metadata": {},
   "outputs": [],
   "source": [
    "def split_wav(input_file, segment_duration, output_path):\n",
    "    # Open the input WAV file\n",
    "    with wave.open(input_file, 'rb') as wav_file:\n",
    "        # Get the parameters of the input WAV file\n",
    "        num_channels = wav_file.getnchannels()\n",
    "        sample_width = wav_file.getsampwidth()\n",
    "        frame_rate = wav_file.getframerate()\n",
    "        num_frames = wav_file.getnframes()\n",
    "        file_name = os.path.basename(input_file)\n",
    "        # Calculate the number of frames per segment based on the provided duration\n",
    "        segment_frames = int(segment_duration * frame_rate)\n",
    "\n",
    "        # Calculate the total number of segments needed\n",
    "        total_segments = math.ceil(num_frames / segment_frames)\n",
    "\n",
    "        # Iterate over the segments and write each one to a separate WAV file\n",
    "        for segment in range(total_segments):\n",
    "            # Calculate the start and end frames for the current segment\n",
    "            start_frame = segment * segment_frames\n",
    "            end_frame = min(start_frame + segment_frames, num_frames)\n",
    "\n",
    "            # Set the output filename for the current segment\n",
    "            output_file = f\"{output_path}\\\\{file_name}_{segment + 1}.wav\"\n",
    "\n",
    "            # Open the output WAV file\n",
    "            with wave.open(output_file, 'wb') as output_wav:\n",
    "                # Set the output file parameters\n",
    "                output_wav.setnchannels(num_channels)\n",
    "                output_wav.setsampwidth(sample_width)\n",
    "                output_wav.setframerate(frame_rate)\n",
    "\n",
    "                # Set the position in the input WAV file to the start frame of the current segment\n",
    "                wav_file.setpos(start_frame)\n",
    "\n",
    "                # Read the frames for the current segment from the input WAV file\n",
    "                frames = wav_file.readframes(end_frame - start_frame)\n",
    "\n",
    "                # Write the frames to the output WAV file\n",
    "                output_wav.writeframes(frames)\n",
    "\n",
    "            print(f\"Segment {segment + 1}/{total_segments} saved in {output_file}\")\n"
   ]
  },
  {
   "cell_type": "markdown",
   "metadata": {},
   "source": [
    "Trong đó\n",
    "Input_file là path của input\n",
    "output_file là path của output\n",
    "segment_duration tính theo giây (second)"
   ]
  },
  {
   "cell_type": "code",
   "execution_count": 12,
   "metadata": {},
   "outputs": [
    {
     "name": "stdout",
     "output_type": "stream",
     "text": [
      "Segment 1/9 saved in C:\\Users\\VIET HOANG - VTS\\Desktop\\place to be split\\output_audio.wav_1.wav\n",
      "Segment 2/9 saved in C:\\Users\\VIET HOANG - VTS\\Desktop\\place to be split\\output_audio.wav_2.wav\n",
      "Segment 3/9 saved in C:\\Users\\VIET HOANG - VTS\\Desktop\\place to be split\\output_audio.wav_3.wav\n",
      "Segment 4/9 saved in C:\\Users\\VIET HOANG - VTS\\Desktop\\place to be split\\output_audio.wav_4.wav\n",
      "Segment 5/9 saved in C:\\Users\\VIET HOANG - VTS\\Desktop\\place to be split\\output_audio.wav_5.wav\n",
      "Segment 6/9 saved in C:\\Users\\VIET HOANG - VTS\\Desktop\\place to be split\\output_audio.wav_6.wav\n",
      "Segment 7/9 saved in C:\\Users\\VIET HOANG - VTS\\Desktop\\place to be split\\output_audio.wav_7.wav\n",
      "Segment 8/9 saved in C:\\Users\\VIET HOANG - VTS\\Desktop\\place to be split\\output_audio.wav_8.wav\n",
      "Segment 9/9 saved in C:\\Users\\VIET HOANG - VTS\\Desktop\\place to be split\\output_audio.wav_9.wav\n"
     ]
    }
   ],
   "source": [
    "path = r\"C:\\Users\\VIET HOANG - VTS\\Desktop\\place to be split\\output_audio.wav\"\n",
    "split_wav(path, 5, r\"C:\\Users\\VIET HOANG - VTS\\Desktop\\place to be split\")"
   ]
  }
 ],
 "metadata": {
  "kernelspec": {
   "display_name": "Python 3",
   "language": "python",
   "name": "python3"
  },
  "language_info": {
   "codemirror_mode": {
    "name": "ipython",
    "version": 3
   },
   "file_extension": ".py",
   "mimetype": "text/x-python",
   "name": "python",
   "nbconvert_exporter": "python",
   "pygments_lexer": "ipython3",
   "version": "3.7.9"
  }
 },
 "nbformat": 4,
 "nbformat_minor": 2
}
